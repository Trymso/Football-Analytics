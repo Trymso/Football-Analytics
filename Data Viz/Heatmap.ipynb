{
 "cells": [
  {
   "cell_type": "code",
   "execution_count": 43,
   "id": "fbeec76d-145d-41f6-a53b-f7e6325fa545",
   "metadata": {},
   "outputs": [],
   "source": [
    "import pandas as pd\n",
    "from mplsoccer import VerticalPitch\n",
    "from mplsoccer import Pitch"
   ]
  },
  {
   "cell_type": "code",
   "execution_count": 7,
   "id": "872d9af8-f1b0-4055-aa85-08863bbd2562",
   "metadata": {},
   "outputs": [],
   "source": [
    "df = pd.read_csv('Liverpool_events.csv')"
   ]
  },
  {
   "cell_type": "code",
   "execution_count": 9,
   "id": "e7badb74-29e8-4950-a8db-066df01e47c0",
   "metadata": {},
   "outputs": [
    {
     "data": {
      "text/html": [
       "<div>\n",
       "<style scoped>\n",
       "    .dataframe tbody tr th:only-of-type {\n",
       "        vertical-align: middle;\n",
       "    }\n",
       "\n",
       "    .dataframe tbody tr th {\n",
       "        vertical-align: top;\n",
       "    }\n",
       "\n",
       "    .dataframe thead th {\n",
       "        text-align: right;\n",
       "    }\n",
       "</style>\n",
       "<table border=\"1\" class=\"dataframe\">\n",
       "  <thead>\n",
       "    <tr style=\"text-align: right;\">\n",
       "      <th></th>\n",
       "      <th>id</th>\n",
       "      <th>event_id</th>\n",
       "      <th>minute</th>\n",
       "      <th>second</th>\n",
       "      <th>team_id</th>\n",
       "      <th>team_name</th>\n",
       "      <th>player_id</th>\n",
       "      <th>x</th>\n",
       "      <th>y</th>\n",
       "      <th>end_x</th>\n",
       "      <th>end_y</th>\n",
       "      <th>is_touch</th>\n",
       "      <th>is_shot</th>\n",
       "      <th>is_goal</th>\n",
       "      <th>type</th>\n",
       "      <th>outcome</th>\n",
       "      <th>period</th>\n",
       "      <th>name</th>\n",
       "      <th>shirt_no</th>\n",
       "      <th>position</th>\n",
       "    </tr>\n",
       "  </thead>\n",
       "  <tbody>\n",
       "    <tr>\n",
       "      <th>0</th>\n",
       "      <td>2744720053</td>\n",
       "      <td>3</td>\n",
       "      <td>0</td>\n",
       "      <td>0</td>\n",
       "      <td>36</td>\n",
       "      <td>Leverkusen</td>\n",
       "      <td>299684</td>\n",
       "      <td>50.0</td>\n",
       "      <td>50.0</td>\n",
       "      <td>34.2</td>\n",
       "      <td>45.4</td>\n",
       "      <td>True</td>\n",
       "      <td>False</td>\n",
       "      <td>False</td>\n",
       "      <td>Pass</td>\n",
       "      <td>Successful</td>\n",
       "      <td>FirstHalf</td>\n",
       "      <td>Exequiel Palacios</td>\n",
       "      <td>25</td>\n",
       "      <td>MC</td>\n",
       "    </tr>\n",
       "    <tr>\n",
       "      <th>1</th>\n",
       "      <td>2744720087</td>\n",
       "      <td>4</td>\n",
       "      <td>0</td>\n",
       "      <td>5</td>\n",
       "      <td>36</td>\n",
       "      <td>Leverkusen</td>\n",
       "      <td>369446</td>\n",
       "      <td>45.9</td>\n",
       "      <td>48.7</td>\n",
       "      <td>40.7</td>\n",
       "      <td>71.4</td>\n",
       "      <td>True</td>\n",
       "      <td>False</td>\n",
       "      <td>False</td>\n",
       "      <td>Pass</td>\n",
       "      <td>Successful</td>\n",
       "      <td>FirstHalf</td>\n",
       "      <td>Edmond Tapsoba</td>\n",
       "      <td>12</td>\n",
       "      <td>DC</td>\n",
       "    </tr>\n",
       "    <tr>\n",
       "      <th>2</th>\n",
       "      <td>2744720113</td>\n",
       "      <td>5</td>\n",
       "      <td>0</td>\n",
       "      <td>7</td>\n",
       "      <td>36</td>\n",
       "      <td>Leverkusen</td>\n",
       "      <td>134946</td>\n",
       "      <td>40.7</td>\n",
       "      <td>71.4</td>\n",
       "      <td>42.1</td>\n",
       "      <td>87.3</td>\n",
       "      <td>True</td>\n",
       "      <td>False</td>\n",
       "      <td>False</td>\n",
       "      <td>Pass</td>\n",
       "      <td>Successful</td>\n",
       "      <td>FirstHalf</td>\n",
       "      <td>Jonathan Tah</td>\n",
       "      <td>4</td>\n",
       "      <td>DC</td>\n",
       "    </tr>\n",
       "    <tr>\n",
       "      <th>3</th>\n",
       "      <td>2744720151</td>\n",
       "      <td>6</td>\n",
       "      <td>0</td>\n",
       "      <td>9</td>\n",
       "      <td>36</td>\n",
       "      <td>Leverkusen</td>\n",
       "      <td>404832</td>\n",
       "      <td>42.6</td>\n",
       "      <td>88.5</td>\n",
       "      <td>100.0</td>\n",
       "      <td>79.7</td>\n",
       "      <td>True</td>\n",
       "      <td>False</td>\n",
       "      <td>False</td>\n",
       "      <td>Pass</td>\n",
       "      <td>Unsuccessful</td>\n",
       "      <td>FirstHalf</td>\n",
       "      <td>Piero Hincapié</td>\n",
       "      <td>3</td>\n",
       "      <td>DC</td>\n",
       "    </tr>\n",
       "    <tr>\n",
       "      <th>4</th>\n",
       "      <td>2744720297</td>\n",
       "      <td>4</td>\n",
       "      <td>0</td>\n",
       "      <td>22</td>\n",
       "      <td>26</td>\n",
       "      <td>Liverpool</td>\n",
       "      <td>95408</td>\n",
       "      <td>5.0</td>\n",
       "      <td>61.1</td>\n",
       "      <td>3.5</td>\n",
       "      <td>49.6</td>\n",
       "      <td>True</td>\n",
       "      <td>False</td>\n",
       "      <td>False</td>\n",
       "      <td>Pass</td>\n",
       "      <td>Successful</td>\n",
       "      <td>FirstHalf</td>\n",
       "      <td>Virgil van Dijk</td>\n",
       "      <td>4</td>\n",
       "      <td>DC</td>\n",
       "    </tr>\n",
       "  </tbody>\n",
       "</table>\n",
       "</div>"
      ],
      "text/plain": [
       "           id  event_id  minute  second  team_id   team_name  player_id     x  \\\n",
       "0  2744720053         3       0       0       36  Leverkusen     299684  50.0   \n",
       "1  2744720087         4       0       5       36  Leverkusen     369446  45.9   \n",
       "2  2744720113         5       0       7       36  Leverkusen     134946  40.7   \n",
       "3  2744720151         6       0       9       36  Leverkusen     404832  42.6   \n",
       "4  2744720297         4       0      22       26   Liverpool      95408   5.0   \n",
       "\n",
       "      y  end_x  end_y  is_touch  is_shot  is_goal  type       outcome  \\\n",
       "0  50.0   34.2   45.4      True    False    False  Pass    Successful   \n",
       "1  48.7   40.7   71.4      True    False    False  Pass    Successful   \n",
       "2  71.4   42.1   87.3      True    False    False  Pass    Successful   \n",
       "3  88.5  100.0   79.7      True    False    False  Pass  Unsuccessful   \n",
       "4  61.1    3.5   49.6      True    False    False  Pass    Successful   \n",
       "\n",
       "      period               name  shirt_no position  \n",
       "0  FirstHalf  Exequiel Palacios        25       MC  \n",
       "1  FirstHalf     Edmond Tapsoba        12       DC  \n",
       "2  FirstHalf       Jonathan Tah         4       DC  \n",
       "3  FirstHalf     Piero Hincapié         3       DC  \n",
       "4  FirstHalf    Virgil van Dijk         4       DC  "
      ]
     },
     "execution_count": 9,
     "metadata": {},
     "output_type": "execute_result"
    }
   ],
   "source": [
    "df.head()"
   ]
  },
  {
   "cell_type": "code",
   "execution_count": 11,
   "id": "aae4422b-48c9-413e-84db-16ec026eb650",
   "metadata": {},
   "outputs": [
    {
     "data": {
      "text/plain": [
       "array(['Pass', 'Clearance', 'BallRecovery', 'Dispossessed', 'Tackle',\n",
       "       'Interception', 'TakeOn', 'MissedShots', 'BallTouch', 'SavedShot',\n",
       "       'Save', 'KeeperPickup', 'Foul', 'BlockedPass', 'Aerial',\n",
       "       'Challenge', 'Card', 'CornerAwarded', 'Claim', 'KeeperSweeper',\n",
       "       'Error', 'Goal', 'OffsidePass', 'OffsideProvoked',\n",
       "       'SubstitutionOff', 'SubstitutionOn'], dtype=object)"
      ]
     },
     "execution_count": 11,
     "metadata": {},
     "output_type": "execute_result"
    }
   ],
   "source": [
    "df.type.unique()"
   ]
  },
  {
   "cell_type": "code",
   "execution_count": 15,
   "id": "911e7295-4e74-4501-ad48-d5a90ee878ec",
   "metadata": {},
   "outputs": [],
   "source": [
    "df = df[df['type'].isin(['Pass', 'BallTouch', 'Tackle', 'BallRecovery',\n",
    "'Clearence', 'BlockedPass', 'TakeOn', 'Interception', 'Challenge'])]"
   ]
  },
  {
   "cell_type": "code",
   "execution_count": 21,
   "id": "5c867f79-3cb2-4c58-829c-4ab52d14653c",
   "metadata": {},
   "outputs": [],
   "source": [
    "#Filtering for team\n",
    "df_team = df[df['team_id'] == 26]"
   ]
  },
  {
   "cell_type": "code",
   "execution_count": 19,
   "id": "f078354b-1466-4598-aef3-00215504cf6e",
   "metadata": {},
   "outputs": [
    {
     "data": {
      "text/plain": [
       "array(['Exequiel Palacios', 'Edmond Tapsoba', 'Jonathan Tah',\n",
       "       'Piero Hincapié', 'Virgil van Dijk', 'Caoimhín Kelleher',\n",
       "       'Jeremie Frimpong', 'Kostas Tsimikas', 'Luis Díaz',\n",
       "       'Alexis Mac Allister', 'Cody Gakpo', 'Florian Wirtz',\n",
       "       'Trent Alexander-Arnold', 'Curtis Jones', 'Victor Boniface',\n",
       "       'Ryan Gravenberch', 'Aleix García', 'Lukás Hrádecky',\n",
       "       'Granit Xhaka', 'Álex Grimaldo', 'Ibrahima Konaté',\n",
       "       'Mohamed Salah', 'Dominik Szoboszlai', 'Jonas Hofmann',\n",
       "       'Robert Andrich', 'Patrik Schick', 'Andy Robertson',\n",
       "       'Darwin Núñez', 'Nathan Tella', 'Conor Bradley', 'Jarell Quansah'],\n",
       "      dtype=object)"
      ]
     },
     "execution_count": 19,
     "metadata": {},
     "output_type": "execute_result"
    }
   ],
   "source": [
    "df.name.unique()"
   ]
  },
  {
   "cell_type": "code",
   "execution_count": 60,
   "id": "25b84de2-5648-4e88-ac5a-aa8ed275b095",
   "metadata": {},
   "outputs": [],
   "source": [
    "#Filtering for player\n",
    "df_player = df[df['name'] == 'Mohamed Salah']"
   ]
  },
  {
   "cell_type": "code",
   "execution_count": null,
   "id": "16ee4c15-d2bd-4688-88f9-b266d3df37c8",
   "metadata": {},
   "outputs": [],
   "source": []
  },
  {
   "cell_type": "code",
   "execution_count": 63,
   "id": "f92add78-c547-4324-a618-3052b746ab31",
   "metadata": {},
   "outputs": [
    {
     "data": {
      "text/plain": [
       "Text(0.5, 1.0, 'Liverpool vs Leverkusen')"
      ]
     },
     "execution_count": 63,
     "metadata": {},
     "output_type": "execute_result"
    },
    {
     "data": {
      "image/png": "[encoded data removed]",
      "text/plain": [
       "<Figure size 640x480 with 1 Axes>"
      ]
     },
     "metadata": {},
     "output_type": "display_data"
    }
   ],
   "source": [
    "#Plotting\n",
    "\n",
    "pitch = VerticalPitch(pitch_type='opta', pitch_color='white', line_color='grey', line_zorder=2)\n",
    "\n",
    "fig, ax = pitch.draw()\n",
    "\n",
    "# Create a heatmap\n",
    "# All this is doing is creating a wrapper around seaborn's kdeplot\n",
    "kde = pitch.kdeplot(\n",
    "    df_player.x,\n",
    "    df_player.y,\n",
    "    fill=True, # This will fill the heatmap with color even if there are no events\n",
    "    thresh=0,\n",
    "    n_levels=100, # This adjusts the smoothness of the heatmap. The higher the number, the smoother the heatmap will be\n",
    "    cut=10,\n",
    "    cmap='Reds',\n",
    "    ax=ax\n",
    ")\n",
    "\n",
    "# Let's add a title\n",
    "ax.set_title('Liverpool vs Leverkusen', fontfamily='monospace', c='grey')"
   ]
  },
  {
   "cell_type": "code",
   "execution_count": null,
   "id": "61dc5c28-93bf-4401-bea9-8153a5469b61",
   "metadata": {},
   "outputs": [],
   "source": []
  },
  {
   "cell_type": "code",
   "execution_count": null,
   "id": "e2f97fe5-757f-43ea-90a2-9da41dbe063f",
   "metadata": {},
   "outputs": [],
   "source": []
  }
 ],
 "metadata": {
  "kernelspec": {
   "display_name": "Python 3 (ipykernel)",
   "language": "python",
   "name": "python3"
  },
  "language_info": {
   "codemirror_mode": {
    "name": "ipython",
    "version": 3
   },
   "file_extension": ".py",
   "mimetype": "text/x-python",
   "name": "python",
   "nbconvert_exporter": "python",
   "pygments_lexer": "ipython3",
   "version": "3.11.7"
  }
 },
 "nbformat": 4,
 "nbformat_minor": 5
}
